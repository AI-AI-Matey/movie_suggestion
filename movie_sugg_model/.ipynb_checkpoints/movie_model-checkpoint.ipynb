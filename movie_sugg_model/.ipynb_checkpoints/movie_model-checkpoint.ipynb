{
 "cells": [
  {
   "cell_type": "code",
   "execution_count": 143,
   "metadata": {},
   "outputs": [
    {
     "data": {
      "text/plain": [
       "('0.25.0', '1.16.0', '2.2.1', '0.23.1')"
      ]
     },
     "execution_count": 143,
     "metadata": {},
     "output_type": "execute_result"
    }
   ],
   "source": [
    "import pandas as pd\n",
    "import numpy as np\n",
    "import re\n",
    "import sklearn\n",
    "from sklearn.metrics.pairwise import cosine_similarity\n",
    "\n",
    "pd.__version__, np.__version__, re.__version__, sklearn.__version__\n"
   ]
  },
  {
   "cell_type": "code",
   "execution_count": 81,
   "metadata": {},
   "outputs": [
    {
     "name": "stdout",
     "output_type": "stream",
     "text": [
      "columns: Index(['Release Year', 'Title', 'Origin/Ethnicity', 'Director', 'Cast',\n",
      "       'Genre', 'Wiki Page', 'Plot'],\n",
      "      dtype='object')\n",
      "Shape: (34886, 8)\n"
     ]
    }
   ],
   "source": [
    "print(\"columns:\", movies_df.columns)\n",
    "print(\"Shape:\", movies_df.shape)"
   ]
  },
  {
   "cell_type": "code",
   "execution_count": 82,
   "metadata": {},
   "outputs": [
    {
     "name": "stdout",
     "output_type": "stream",
     "text": [
      "MIN: 15 \tMEAN: 2165.0345410766495 \tMAX: 36773 \n",
      "Val counts bins: (-21.759, 3690.8]     27622\n",
      "(3690.8, 7366.6]       6901\n",
      "(7366.6, 11042.4]       306\n",
      "(11042.4, 14718.2]       38\n",
      "(14718.2, 18394.0]       10\n",
      "(18394.0, 22069.8]        3\n",
      "(33097.2, 36773.0]        2\n",
      "(29421.4, 33097.2]        2\n",
      "(25745.6, 29421.4]        1\n",
      "(22069.8, 25745.6]        1\n",
      "Name: Plot, dtype: int64\n"
     ]
    }
   ],
   "source": [
    "str_len_plot_ser = movies_df['Plot'].str.len()\n",
    "print(\"MIN:\", np.min(str_len_plot_ser), \n",
    "      \"\\tMEAN:\", np.mean(str_len_plot_ser), \n",
    "      \"\\tMAX:\", np.max(str_len_plot_ser), \n",
    "      \"\\nVal counts bins:\", str_len_plot_ser.value_counts(bins = 10))"
   ]
  },
  {
   "cell_type": "code",
   "execution_count": 83,
   "metadata": {},
   "outputs": [],
   "source": [
    "embeddings_dict = {}\n",
    "with open(\"glove.6B.100d.txt\", 'r') as f:\n",
    "    for line in f:\n",
    "        values = line.split()\n",
    "        word = values[0]\n",
    "        vector = np.asarray(values[1:], \"float32\")\n",
    "        embeddings_dict[word] = vector"
   ]
  },
  {
   "cell_type": "code",
   "execution_count": 84,
   "metadata": {},
   "outputs": [],
   "source": [
    "def get_sent_vector_avg(inp_sent):\n",
    "    try:\n",
    "        inp_sent_lw = inp_sent.lower()\n",
    "        vec_holder = []\n",
    "        for word in inp_sent_lw.split():\n",
    "            if word not in embeddings_dict:\n",
    "                continue\n",
    "            word_emb_ = embeddings_dict[word]\n",
    "            vec_holder.append(word_emb_)\n",
    "        average_vec = np.mean(vec_holder, axis = 0)\n",
    "        return average_vec\n",
    "    except:\n",
    "        return None\n",
    "    "
   ]
  },
  {
   "cell_type": "code",
   "execution_count": 85,
   "metadata": {},
   "outputs": [],
   "source": [
    "def get_similars(inp_name, dict_to_consider):\n",
    "    inp_name_vec = dict_to_consider[inp_name]\n",
    "    cos_sim_res = cosine_similarity([inp_name_vec], list(dict_to_consider.values()))\n",
    "    \n",
    "    dict_keys = list(dict_to_consider.keys())\n",
    "    \n",
    "    TOP_N = 20\n",
    "    top_n_ind = cos_sim_res[0].argsort()[-TOP_N:]\n",
    "    top_n_similarities = [key_ for ind, key_ in enumerate(dict_keys) if ind in top_n_ind]\n",
    "    top_n_similarities.reverse()\n",
    "    return top_n_similarities"
   ]
  },
  {
   "cell_type": "code",
   "execution_count": 109,
   "metadata": {},
   "outputs": [
    {
     "name": "stderr",
     "output_type": "stream",
     "text": [
      "/Users/aakashp/anaconda3/lib/python3.6/site-packages/numpy/core/fromnumeric.py:3118: RuntimeWarning: Mean of empty slice.\n",
      "  out=out, **kwargs)\n"
     ]
    }
   ],
   "source": [
    "movies_df_vec_df = movies_df.copy()\n",
    "\n",
    "split_feature_func = lambda x: None if np.all(pd.isnull(x)) else x.replace(\", \", \",\").split(\",\")\n",
    "movies_df_vec_df['Cast'] = movies_df_vec_df['Cast'].apply(split_feature_func)\n",
    "movies_df_vec_df['Director'] = movies_df_vec_df['Director'].apply(split_feature_func)\n",
    "movies_df_vec_df['Genre'] = movies_df_vec_df['Genre'].apply(split_feature_func)\n",
    "\n",
    "movies_df_vec_df['sent_vec'] = movies_df_vec_df['Plot'].apply(get_sent_vector_avg)"
   ]
  },
  {
   "cell_type": "code",
   "execution_count": 110,
   "metadata": {},
   "outputs": [],
   "source": [
    "\n",
    "title_emb_dict = movies_df_vec_df.groupby(\"Title\")[\"sent_vec\"].apply(lambda x: np.mean(x, axis = 0)).dropna().to_dict()\n",
    "\n",
    "director_emb_dict = movies_df_vec_df.explode(\"Director\")\\\n",
    "            .groupby(\"Director\")[\"sent_vec\"].apply(lambda x: np.mean(x, axis = 0)).dropna().to_dict()\n",
    "    \n",
    "cast_emb_dict = movies_df_vec_df.explode(\"Cast\")\\\n",
    "            .groupby(\"Cast\")[\"sent_vec\"].apply(lambda x: np.mean(x, axis = 0)).dropna().to_dict()\n",
    "\n",
    "genre_emb_dict = movies_df_vec_df.explode(\"Genre\")\\\n",
    "            .groupby(\"Genre\")[\"sent_vec\"].apply(lambda x: np.mean(x, axis = 0)).dropna().to_dict()\n"
   ]
  },
  {
   "cell_type": "code",
   "execution_count": 114,
   "metadata": {},
   "outputs": [],
   "source": [
    "# Just return the value based on the key of the dict with error handling\n",
    "def get_vector(inp, vec_dict):\n",
    "    try:\n",
    "        return vec_dict[inp]\n",
    "    except:\n",
    "        return None\n",
    "# Transformation is made flexible. It could take list as input\n",
    "def get_vector_with_list(inp, vec_dict):\n",
    "    try:\n",
    "        return np.mean([get_vector(ele, vec_dict) for ele in inp], axis = 0)\n",
    "    except:\n",
    "        return None\n"
   ]
  },
  {
   "cell_type": "code",
   "execution_count": 118,
   "metadata": {},
   "outputs": [],
   "source": [
    "\n",
    "movies_df_transformed_df = movies_df_vec_df.dropna().copy()\n",
    "\n",
    "movies_df_transformed_df['Cast_vec'] = movies_df_transformed_df['Cast'].apply(lambda x: get_vector_with_list( \n",
    "                                                                              x, cast_emb_dict))\n",
    "movies_df_transformed_df['Title_vec'] = movies_df_transformed_df['Title'].apply(lambda x: get_vector( \n",
    "                                                                              x, title_emb_dict))\n",
    "movies_df_transformed_df['Genre_vec'] = movies_df_transformed_df['Genre'].apply(lambda x: get_vector_with_list( \n",
    "                                                                              x, genre_emb_dict))\n",
    "movies_df_transformed_df['Director_vec'] = movies_df_transformed_df['Director'].apply(lambda x: get_vector_with_list( \n",
    "                                                                              x, director_emb_dict))\n",
    "\n",
    "movies_df_transformed_df['vector_combined'] = movies_df_transformed_df.apply(\n",
    "    lambda x: np.concatenate((x['Cast_vec'], x['Title_vec'], x['Genre_vec'], x['Director_vec']), axis = None), \n",
    "    axis = 1\n",
    ")\n"
   ]
  },
  {
   "cell_type": "code",
   "execution_count": 121,
   "metadata": {},
   "outputs": [],
   "source": [
    "movie_embeddings_dict = movies_df_transformed_df.set_index(\"Title\")['vector_combined'].to_dict()\n"
   ]
  },
  {
   "cell_type": "code",
   "execution_count": 157,
   "metadata": {},
   "outputs": [
    {
     "data": {
      "text/plain": [
       "['Defying Gravity', 'Gravity']"
      ]
     },
     "execution_count": 157,
     "metadata": {},
     "output_type": "execute_result"
    }
   ],
   "source": [
    "check_movie_name = \"gravity\"\n",
    "[movie for movie in movies if re.search(check_movie_name, movie, re.IGNORECASE)]"
   ]
  },
  {
   "cell_type": "code",
   "execution_count": 158,
   "metadata": {},
   "outputs": [
    {
     "name": "stdout",
     "output_type": "stream",
     "text": [
      "*****\n",
      "Input Movie:\n",
      " Gravity \n",
      "*****\n",
      "The Movies you may like\n",
      "\n",
      " The Age of Pioneers\n",
      "Gamera vs. Zigra\n",
      "Gamera vs. Guiron\n",
      "Gamera\n",
      "Gorath\n",
      "Battle in Outer Space\n",
      "Thunderbirds Are Go\n",
      "The Martian\n",
      "Interstellar\n",
      "Planes: Fire & Rescue\n",
      "Gravity\n",
      "Europa Report\n",
      "Apollo 18\n",
      "Virus\n",
      "Armageddon\n",
      "Star Trek: First Contact\n",
      "DeepStar Six\n",
      "The Abyss\n",
      "Airport '77\n",
      "Dark Star\n"
     ]
    }
   ],
   "source": [
    "################ MOVIE RESULTS ################\n",
    "INP_MOVIE = \"Gravity\"\n",
    "print(\"*****\\nInput Movie:\\n\", INP_MOVIE, \n",
    "      \"\\n*****\\nThe Movies you may like\\n\\n\", \"\\n\".join(get_similars(INP_MOVIE, movie_embeddings_dict)))\n"
   ]
  },
  {
   "cell_type": "code",
   "execution_count": 89,
   "metadata": {},
   "outputs": [
    {
     "data": {
      "text/plain": [
       "[]"
      ]
     },
     "execution_count": 89,
     "metadata": {},
     "output_type": "execute_result"
    }
   ],
   "source": [
    "\n",
    "check_genre_name = \"  \"\n",
    "genres = list(genre_emb_dict.keys())\n",
    "[genre for genre in genres if re.search(check_genre_name, genre, re.IGNORECASE)]"
   ]
  },
  {
   "cell_type": "code",
   "execution_count": 111,
   "metadata": {},
   "outputs": [
    {
     "name": "stdout",
     "output_type": "stream",
     "text": [
      "*****\n",
      "Input Genre:\n",
      " romance  \n",
      "*****\n",
      "Similar Genres\n",
      "\n",
      " romantic drama\n",
      "romantic comedy\n",
      "romance/thriller\n",
      "romance/drama\n",
      "romance/comedy\n",
      "romance/action\n",
      "romance drama\n",
      "romance \n",
      "romance\n",
      "rom-com\n",
      "musical \n",
      "masala\n",
      "love\n",
      "family drama\n",
      "family \n",
      "drama romance\n",
      "comedy romance\n",
      "comedy \n",
      "charmme\n",
      "adult comedy\n"
     ]
    }
   ],
   "source": [
    "################ GENRE RESULTS ################\n",
    "INP_GENRE_ = \"romance \"\n",
    "print(\"*****\\nInput Genre:\\n\", INP_GENRE_,  \n",
    "      \"\\n*****\\nSimilar Genres\\n\\n\", \"\\n\".join(get_similars(INP_GENRE_, genre_emb_dict)))\n"
   ]
  },
  {
   "cell_type": "code",
   "execution_count": 113,
   "metadata": {},
   "outputs": [
    {
     "data": {
      "text/plain": [
       "['No Strings Attached']"
      ]
     },
     "execution_count": 113,
     "metadata": {},
     "output_type": "execute_result"
    }
   ],
   "source": [
    "check_movie_name = \"NO STRINGS\"\n",
    "[movie for movie in movies if re.search(check_movie_name, movie, re.IGNORECASE)]"
   ]
  },
  {
   "cell_type": "code",
   "execution_count": 93,
   "metadata": {
    "scrolled": true
   },
   "outputs": [
    {
     "name": "stdout",
     "output_type": "stream",
     "text": [
      "*****\n",
      "Input Movie:\n",
      " No Strings Attached \n",
      "*****\n",
      "Similar Movies\n",
      "\n",
      " What's Your Number?\n",
      "Walking and Talking\n",
      "The Wedding Planner\n",
      "The Perfect Man\n",
      "Someone Like You\n",
      "Peggy Sue Got Married\n",
      "No Strings Attached\n",
      "Must Love Dogs\n",
      "Little City\n",
      "Killing Me Softly\n",
      "Jumping the Broom\n",
      "Inconceivable\n",
      "In the Land of Women\n",
      "How to Be Single\n",
      "Half Angel\n",
      "For Colored Girls\n",
      "Complete Unknown\n",
      "Chance\n",
      "27 Dresses\n",
      " A Teacher\n"
     ]
    }
   ],
   "source": [
    "################ MOVIE RESULTS ################\n",
    "INP_MOVIE = \"No Strings Attached\"\n",
    "print(\"*****\\nInput Movie:\\n\", INP_MOVIE, \n",
    "      \"\\n*****\\nSimilar Movies\\n\\n\", \"\\n\".join(get_similars(INP_MOVIE, title_emb_dict)))\n"
   ]
  },
  {
   "cell_type": "code",
   "execution_count": 159,
   "metadata": {},
   "outputs": [
    {
     "data": {
      "text/plain": [
       "['Rajinikanth', 'T. R. Rajini']"
      ]
     },
     "execution_count": 159,
     "metadata": {},
     "output_type": "execute_result"
    }
   ],
   "source": [
    "check_cast_name = \"rajini\"\n",
    "casts = list(cast_emb_dict.keys())\n",
    "[cast for cast in casts if re.search(check_cast_name, cast, re.IGNORECASE)]"
   ]
  },
  {
   "cell_type": "code",
   "execution_count": 160,
   "metadata": {},
   "outputs": [
    {
     "name": "stdout",
     "output_type": "stream",
     "text": [
      "*****\n",
      "Input CAST:\n",
      " Rajinikanth \n",
      "*****\n",
      "Similar CASTS\n",
      "\n",
      " Vikram\n",
      "Vijayashanti\n",
      "Vijay\n",
      "Sridevi\n",
      "Sathyaraj\n",
      "Revathi\n",
      "Rekha\n",
      "Ramya Krishnan\n",
      "Rajinikanth\n",
      "Radha\n",
      "Raadhika\n",
      "Manorama\n",
      "Kamal Hassan\n",
      "Kamal Haasan\n",
      "Janagaraj\n",
      "Gouthami\n",
      "Goundamani\n",
      "Chiranjeevi\n",
      "Bhanupriya\n",
      "Ajith Kumar\n"
     ]
    }
   ],
   "source": [
    "################ MOVIE RESULTS ################\n",
    "INP_CAST = \"Rajinikanth\"\n",
    "print(\"*****\\nInput CAST:\\n\", INP_CAST, \n",
    "      \"\\n*****\\nSimilar CASTS\\n\\n\", \"\\n\".join(get_similars(INP_CAST, cast_emb_dict)))\n"
   ]
  },
  {
   "cell_type": "code",
   "execution_count": null,
   "metadata": {},
   "outputs": [],
   "source": []
  }
 ],
 "metadata": {
  "kernelspec": {
   "display_name": "Python 3",
   "language": "python",
   "name": "python3"
  },
  "language_info": {
   "codemirror_mode": {
    "name": "ipython",
    "version": 3
   },
   "file_extension": ".py",
   "mimetype": "text/x-python",
   "name": "python",
   "nbconvert_exporter": "python",
   "pygments_lexer": "ipython3",
   "version": "3.6.4"
  }
 },
 "nbformat": 4,
 "nbformat_minor": 2
}
