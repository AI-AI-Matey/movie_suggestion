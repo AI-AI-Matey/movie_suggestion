{
 "cells": [
  {
   "cell_type": "code",
   "execution_count": 8,
   "metadata": {},
   "outputs": [
    {
     "ename": "ModuleNotFoundError",
     "evalue": "No module named 'Flask'",
     "output_type": "error",
     "traceback": [
      "\u001b[0;31m---------------------------------------------------------------------------\u001b[0m",
      "\u001b[0;31mModuleNotFoundError\u001b[0m                       Traceback (most recent call last)",
      "\u001b[0;32m<ipython-input-8-178a91039c94>\u001b[0m in \u001b[0;36m<module>\u001b[0;34m()\u001b[0m\n\u001b[1;32m      5\u001b[0m \u001b[0;32mfrom\u001b[0m \u001b[0msklearn\u001b[0m\u001b[0;34m.\u001b[0m\u001b[0mmetrics\u001b[0m\u001b[0;34m.\u001b[0m\u001b[0mpairwise\u001b[0m \u001b[0;32mimport\u001b[0m \u001b[0mcosine_similarity\u001b[0m\u001b[0;34m\u001b[0m\u001b[0m\n\u001b[1;32m      6\u001b[0m \u001b[0;32mimport\u001b[0m \u001b[0mpickle\u001b[0m\u001b[0;34m\u001b[0m\u001b[0m\n\u001b[0;32m----> 7\u001b[0;31m \u001b[0;32mimport\u001b[0m \u001b[0mFlask\u001b[0m\u001b[0;34m\u001b[0m\u001b[0m\n\u001b[0m\u001b[1;32m      8\u001b[0m \u001b[0;31m# Read data from file:\u001b[0m\u001b[0;34m\u001b[0m\u001b[0;34m\u001b[0m\u001b[0m\n\u001b[1;32m      9\u001b[0m \u001b[0;32mwith\u001b[0m \u001b[0mopen\u001b[0m\u001b[0;34m(\u001b[0m\u001b[0;34m\"movie_embeddings_dict.pkl\"\u001b[0m\u001b[0;34m,\u001b[0m \u001b[0;34m'rb'\u001b[0m\u001b[0;34m)\u001b[0m \u001b[0;32mas\u001b[0m \u001b[0mf\u001b[0m\u001b[0;34m:\u001b[0m\u001b[0;34m\u001b[0m\u001b[0m\n",
      "\u001b[0;31mModuleNotFoundError\u001b[0m: No module named 'Flask'"
     ]
    }
   ],
   "source": [
    "import pandas as pd\n",
    "import numpy as np\n",
    "import re\n",
    "import sklearn\n",
    "from sklearn.metrics.pairwise import cosine_similarity\n",
    "import pickle\n",
    "import Flask\n",
    "\n",
    "# Read data from file:\n",
    "with open(\"movie_embeddings_dict.pkl\", 'rb') as f:\n",
    "    movie_embeddings_dict = pickle.load(f)"
   ]
  },
  {
   "cell_type": "code",
   "execution_count": 5,
   "metadata": {},
   "outputs": [],
   "source": [
    "def get_similars(inp_name, dict_to_consider):\n",
    "    inp_name_vec = dict_to_consider[inp_name]\n",
    "    cos_sim_res = cosine_similarity([inp_name_vec], list(dict_to_consider.values()))\n",
    "    \n",
    "    dict_keys = list(dict_to_consider.keys())\n",
    "    \n",
    "    TOP_N = 20\n",
    "    top_n_ind = cos_sim_res[0].argsort()[-TOP_N:]\n",
    "    top_n_similarities = [key_ for ind, key_ in enumerate(dict_keys) if ind in top_n_ind]\n",
    "    top_n_similarities.reverse()\n",
    "    return top_n_similarities"
   ]
  },
  {
   "cell_type": "code",
   "execution_count": 6,
   "metadata": {},
   "outputs": [
    {
     "name": "stdout",
     "output_type": "stream",
     "text": [
      "*****\n",
      "Input Movie:\n",
      " Titanic \n",
      "*****\n",
      "The Movies you may like\n",
      "\n",
      " Titanic 3D\n",
      "Sucker Punch\n",
      "Let Me In\n",
      "Case 39\n",
      "Pirates of the Caribbean: Dead Man's Chest\n",
      "Event Horizon\n",
      "Jumanji\n",
      "Cutthroat Island\n",
      "Hook\n",
      "Twister\n",
      "Alien from L.A.\n",
      "Cat's Eye\n",
      "Starman\n",
      "E.T. the Extra-Terrestrial\n",
      "The Haunting\n",
      "House on Haunted Hill\n",
      "Cult of the Cobra\n",
      "Titanic\n",
      "The Trap\n",
      "Doomsday\n"
     ]
    }
   ],
   "source": [
    "################ MOVIE RESULTS ################\n"
   ]
  },
  {
   "cell_type": "code",
   "execution_count": 7,
   "metadata": {},
   "outputs": [
    {
     "ename": "NameError",
     "evalue": "name 'Flask' is not defined",
     "output_type": "error",
     "traceback": [
      "\u001b[0;31m---------------------------------------------------------------------------\u001b[0m",
      "\u001b[0;31mNameError\u001b[0m                                 Traceback (most recent call last)",
      "\u001b[0;32m<ipython-input-7-53cf9634b5db>\u001b[0m in \u001b[0;36m<module>\u001b[0;34m()\u001b[0m\n\u001b[1;32m      1\u001b[0m \u001b[0;31m# app\u001b[0m\u001b[0;34m\u001b[0m\u001b[0;34m\u001b[0m\u001b[0m\n\u001b[0;32m----> 2\u001b[0;31m \u001b[0mapp\u001b[0m \u001b[0;34m=\u001b[0m \u001b[0mFlask\u001b[0m\u001b[0;34m(\u001b[0m\u001b[0m__name__\u001b[0m\u001b[0;34m)\u001b[0m\u001b[0;34m\u001b[0m\u001b[0m\n\u001b[0m\u001b[1;32m      3\u001b[0m \u001b[0;34m\u001b[0m\u001b[0m\n\u001b[1;32m      4\u001b[0m \u001b[0;31m# routes\u001b[0m\u001b[0;34m\u001b[0m\u001b[0;34m\u001b[0m\u001b[0m\n\u001b[1;32m      5\u001b[0m \u001b[0;34m@\u001b[0m\u001b[0mapp\u001b[0m\u001b[0;34m.\u001b[0m\u001b[0mroute\u001b[0m\u001b[0;34m(\u001b[0m\u001b[0;34m'/'\u001b[0m\u001b[0;34m,\u001b[0m \u001b[0mmethods\u001b[0m\u001b[0;34m=\u001b[0m\u001b[0;34m[\u001b[0m\u001b[0;34m'POST'\u001b[0m\u001b[0;34m]\u001b[0m\u001b[0;34m)\u001b[0m\u001b[0;34m\u001b[0m\u001b[0m\n",
      "\u001b[0;31mNameError\u001b[0m: name 'Flask' is not defined"
     ]
    }
   ],
   "source": [
    "# app\n",
    "app = Flask(__name__)\n",
    "\n",
    "# routes\n",
    "@app.route('/', methods=['POST'])\n",
    "def predict():\n",
    "    # get data\n",
    "    data = request.get_json(force=True)\n",
    "    \n",
    "    INP_MOVIE = data[\"movie\"]\n",
    "    output_val = (\"*****\\nInput Movie:\\n\", INP_MOVIE, \n",
    "      \"\\n*****\\nThe Movies you may like\\n\\n\", \"\\n\".join(get_similars(INP_MOVIE, movie_embeddings_dict)))\n",
    "\n",
    "#     # convert data into dataframe\n",
    "#     data.update((x, [y]) for x, y in data.items())\n",
    "#     data_df = pd.DataFrame.from_dict(data)\n",
    "\n",
    "#     # predictions\n",
    "#     result = model.predict(data_df)\n",
    "\n",
    "    # send back to browser\n",
    "    output = {'results': output_val}\n",
    "\n",
    "    # return data\n",
    "    return jsonify(results=output)\n",
    "\n",
    "if __name__ == '__main__':\n",
    "    app.run(port = 5000, debug=True)"
   ]
  },
  {
   "cell_type": "code",
   "execution_count": null,
   "metadata": {},
   "outputs": [],
   "source": []
  }
 ],
 "metadata": {
  "kernelspec": {
   "display_name": "Python 3",
   "language": "python",
   "name": "python3"
  },
  "language_info": {
   "codemirror_mode": {
    "name": "ipython",
    "version": 3
   },
   "file_extension": ".py",
   "mimetype": "text/x-python",
   "name": "python",
   "nbconvert_exporter": "python",
   "pygments_lexer": "ipython3",
   "version": "3.6.4"
  }
 },
 "nbformat": 4,
 "nbformat_minor": 2
}
